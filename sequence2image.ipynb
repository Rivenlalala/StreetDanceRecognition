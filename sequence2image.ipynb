{
 "cells": [
  {
   "cell_type": "markdown",
   "metadata": {},
   "source": [
    "```\n",
    "Convert skeleton sequences into images and save them in a folder\n",
    "\n",
    "We follow this paper for sequence normalization:\n",
    "Skeleton Based Action Recognition with Convolutional Neural Network\n",
    "```\n",
    "\n",
    "#### [link](https://ieeexplore.ieee.org/document/7486569/)\n"
   ]
  },
  {
   "cell_type": "code",
   "execution_count": 7,
   "metadata": {},
   "outputs": [],
   "source": [
    "import scipy.io as sio\n",
    "from math import floor\n",
    "import numpy as np\n",
    "import pylab as plt\n",
    "import cv2\n",
    "import os"
   ]
  },
  {
   "cell_type": "code",
   "execution_count": 8,
   "metadata": {},
   "outputs": [
    {
     "name": "stdout",
     "output_type": "stream",
     "text": [
      "1.mat\n",
      "2.mat\n",
      "3.mat\n",
      "4.mat\n",
      "5.mat\n",
      "6.mat\n",
      "7.mat\n",
      "8.mat\n",
      "9.mat\n",
      "10.mat\n",
      "11.mat\n",
      "12.mat\n",
      "13.mat\n",
      "14.mat\n",
      "15.mat\n",
      "16.mat\n",
      "17.mat\n",
      "18.mat\n",
      "19.mat\n",
      "20.mat\n",
      "21.mat\n",
      "22.mat\n",
      "23.mat\n",
      "24.mat\n",
      "25.mat\n",
      "26.mat\n",
      "27.mat\n",
      "28.mat\n",
      "29.mat\n",
      "30.mat\n",
      "31.mat\n",
      "32.mat\n",
      "33.mat\n",
      "34.mat\n",
      "35.mat\n",
      "36.mat\n",
      "37.mat\n",
      "38.mat\n",
      "39.mat\n",
      "40.mat\n",
      "41.mat\n",
      "42.mat\n",
      "43.mat\n",
      "44.mat\n",
      "45.mat\n",
      "46.mat\n",
      "47.mat\n",
      "48.mat\n",
      "49.mat\n",
      "50.mat\n",
      "51.mat\n",
      "52.mat\n",
      "53.mat\n",
      "54.mat\n",
      "55.mat\n",
      "56.mat\n",
      "57.mat\n",
      "58.mat\n",
      "59.mat\n",
      "60.mat\n",
      "61.mat\n",
      "62.mat\n",
      "63.mat\n",
      "64.mat\n",
      "65.mat\n",
      "66.mat\n",
      "67.mat\n",
      "68.mat\n",
      "69.mat\n",
      "70.mat\n",
      "71.mat\n",
      "72.mat\n",
      "73.mat\n",
      "74.mat\n",
      "75.mat\n",
      "76.mat\n",
      "77.mat\n",
      "78.mat\n",
      "79.mat\n",
      "80.mat\n",
      "81.mat\n",
      "82.mat\n",
      "83.mat\n",
      "84.mat\n",
      "85.mat\n",
      "86.mat\n",
      "87.mat\n",
      "88.mat\n",
      "89.mat\n",
      "90.mat\n",
      "91.mat\n",
      "92.mat\n",
      "93.mat\n",
      "94.mat\n",
      "95.mat\n",
      "96.mat\n",
      "97.mat\n",
      "98.mat\n",
      "99.mat\n",
      "100.mat\n",
      "101.mat\n",
      "102.mat\n",
      "103.mat\n",
      "104.mat\n",
      "105.mat\n",
      "106.mat\n",
      "107.mat\n"
     ]
    }
   ],
   "source": [
    "vid_path = 'shuffle107'\n",
    "mat_path = vid_path + '_mat/'\n",
    "img_path = vid_path + '_png/'\n",
    "if not os.path.exists(img_path):\n",
    "    os.mkdir(img_path)\n",
    "\n",
    "# Traverse all files\n",
    "for i in range(1,108):\n",
    "    file_name = str(i)+'.mat'\n",
    "    print(file_name)\n",
    "    mat = sio.loadmat(mat_path + file_name)\n",
    "    \n",
    "    # Find the least non-zero value for Cmin\n",
    "    arr = mat['pred'].reshape(1,-1)\n",
    "    arr = sorted(arr[0])\n",
    "    j = 0\n",
    "    while arr[j] == 0:\n",
    "        j += 1\n",
    "    Cmin = arr[j]\n",
    "    \n",
    "    Cmax = mat['pred'].max()\n",
    "\n",
    "    # Normalize the mat\n",
    "    norMat = np.floor(255*(mat['pred']-Cmin)/(Cmax-Cmin))\n",
    "    nFrame = norMat.shape[0]\n",
    "    norMat = norMat.reshape(nFrame,-1)\n",
    "    img = np.transpose(norMat)\n",
    "    # Make all image of the same size, 26 rows by 50 columns (frames)\n",
    "    # Note: in cv2, dsize is (cols,rows)\n",
    "    img = cv2.resize(img, (50, 26))\n",
    "    \n",
    "    cv2.imwrite(img_path+str(i)+'.png',img)"
   ]
  },
  {
   "cell_type": "markdown",
   "metadata": {},
   "source": [
    "```\n",
    "inspect the last image\n",
    "```"
   ]
  },
  {
   "cell_type": "code",
   "execution_count": 9,
   "metadata": {},
   "outputs": [
    {
     "data": {
      "text/plain": [
       "50"
      ]
     },
     "execution_count": 9,
     "metadata": {},
     "output_type": "execute_result"
    }
   ],
   "source": [
    "norMat.shape[0]"
   ]
  },
  {
   "cell_type": "code",
   "execution_count": 10,
   "metadata": {},
   "outputs": [
    {
     "name": "stdout",
     "output_type": "stream",
     "text": [
      "876.0 102.0\n"
     ]
    }
   ],
   "source": [
    "print(Cmax, Cmin)\n",
    "# normalize the mat\n",
    "norMat = np.floor(255*(mat['pred']-Cmin)/(Cmax-Cmin))"
   ]
  },
  {
   "cell_type": "code",
   "execution_count": 11,
   "metadata": {
    "scrolled": true
   },
   "outputs": [
    {
     "data": {
      "text/plain": [
       "array([[ 217.,  170.],\n",
       "       [ 180.,  136.],\n",
       "       [ 193.,   79.],\n",
       "       [ 197.,   80.],\n",
       "       [ 176.,  136.],\n",
       "       [ 198.,  187.],\n",
       "       [ 165.,   34.],\n",
       "       [ 174.,   47.],\n",
       "       [ 184.,   17.],\n",
       "       [ 198.,   18.],\n",
       "       [ 191.,   51.],\n",
       "       [ 179.,   27.],\n",
       "       [ 191.,   17.]])"
      ]
     },
     "execution_count": 11,
     "metadata": {},
     "output_type": "execute_result"
    }
   ],
   "source": [
    "# points (x,y) in frame i\n",
    "i = 0\n",
    "norMat[i,:]"
   ]
  },
  {
   "cell_type": "code",
   "execution_count": 12,
   "metadata": {},
   "outputs": [
    {
     "data": {
      "text/plain": [
       "(50, 26)"
      ]
     },
     "execution_count": 12,
     "metadata": {},
     "output_type": "execute_result"
    }
   ],
   "source": [
    "norMat = norMat.reshape(50,-1)\n",
    "norMat.shape"
   ]
  },
  {
   "cell_type": "code",
   "execution_count": 13,
   "metadata": {},
   "outputs": [
    {
     "data": {
      "text/plain": [
       "(26, 50)"
      ]
     },
     "execution_count": 13,
     "metadata": {},
     "output_type": "execute_result"
    }
   ],
   "source": [
    "img = np.transpose(norMat)\n",
    "# make all image of the same size\n",
    "img = cv2.resize(img, (50, 26))\n",
    "img.shape"
   ]
  },
  {
   "cell_type": "code",
   "execution_count": 14,
   "metadata": {},
   "outputs": [
    {
     "data": {
      "image/png": "[encoded data removed]",
      "text/plain": [
       "<matplotlib.figure.Figure at 0x7fe726618e10>"
      ]
     },
     "metadata": {},
     "output_type": "display_data"
    }
   ],
   "source": [
    "plt.imshow(img)\n",
    "plt.axis('off')\n",
    "plt.show()"
   ]
  }
 ],
 "metadata": {
  "kernelspec": {
   "display_name": "Python 3",
   "language": "python",
   "name": "python3"
  },
  "language_info": {
   "codemirror_mode": {
    "name": "ipython",
    "version": 3
   },
   "file_extension": ".py",
   "mimetype": "text/x-python",
   "name": "python",
   "nbconvert_exporter": "python",
   "pygments_lexer": "ipython3",
   "version": "3.5.2"
  }
 },
 "nbformat": 4,
 "nbformat_minor": 2
}
